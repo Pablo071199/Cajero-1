{
  "nbformat": 4,
  "nbformat_minor": 0,
  "metadata": {
    "colab": {
      "provenance": [],
      "authorship_tag": "ABX9TyNCGl7mJBt7zwYikEGdGO0t",
      "include_colab_link": true
    },
    "kernelspec": {
      "name": "python3",
      "display_name": "Python 3"
    },
    "language_info": {
      "name": "python"
    }
  },
  "cells": [
    {
      "cell_type": "markdown",
      "metadata": {
        "id": "view-in-github",
        "colab_type": "text"
      },
      "source": [
        "<a href=\"https://colab.research.google.com/github/Pablo071199/Cajero-1/blob/main/Untitled0.ipynb\" target=\"_parent\"><img src=\"https://colab.research.google.com/assets/colab-badge.svg\" alt=\"Open In Colab\"/></a>"
      ]
    },
    {
      "cell_type": "code",
      "execution_count": 1,
      "metadata": {
        "colab": {
          "base_uri": "https://localhost:8080/"
        },
        "id": "u2_CqLXPmmBx",
        "outputId": "c35900f4-26b2-49d9-d644-c60ce432aabd"
      },
      "outputs": [
        {
          "output_type": "stream",
          "name": "stdout",
          "text": [
            "Por favor, introduzca su número de cuenta para continuar: 2324\n",
            "Bienvenido al simulador de cajero automático, cuenta 2324!\n",
            "\n",
            "Por favor, seleccione la opción deseada:\n",
            "1. Consultar saldo\n",
            "2. Retirar dinero\n",
            "3. Depositar dinero\n",
            "4. Transferir dinero a otra cuenta\n",
            "5. Salir\n",
            "Por favor, ingrese el número correspondiente a la opción elegida: 1\n",
            "¡Su saldo actual es de $5000.0! ¡Gracias por consultar!\n",
            "\n",
            "Por favor, seleccione la opción deseada:\n",
            "1. Consultar saldo\n",
            "2. Retirar dinero\n",
            "3. Depositar dinero\n",
            "4. Transferir dinero a otra cuenta\n",
            "5. Salir\n",
            "Por favor, ingrese el número correspondiente a la opción elegida: 2\n",
            "Por favor, ingrese la cantidad a retirar: 4000\n",
            "¡Retiro exitoso! Ha retirado $4000.0.\n",
            "\n",
            "Por favor, seleccione la opción deseada:\n",
            "1. Consultar saldo\n",
            "2. Retirar dinero\n",
            "3. Depositar dinero\n",
            "4. Transferir dinero a otra cuenta\n",
            "5. Salir\n",
            "Por favor, ingrese el número correspondiente a la opción elegida: 1\n",
            "¡Su saldo actual es de $1000.0! ¡Gracias por consultar!\n",
            "\n",
            "Por favor, seleccione la opción deseada:\n",
            "1. Consultar saldo\n",
            "2. Retirar dinero\n",
            "3. Depositar dinero\n",
            "4. Transferir dinero a otra cuenta\n",
            "5. Salir\n",
            "Por favor, ingrese el número correspondiente a la opción elegida: 3\n",
            "Por favor, ingrese la cantidad a depositar: 5000\n",
            "¡Depósito exitoso! Ha depositado $5000.0.\n",
            "\n",
            "Por favor, seleccione la opción deseada:\n",
            "1. Consultar saldo\n",
            "2. Retirar dinero\n",
            "3. Depositar dinero\n",
            "4. Transferir dinero a otra cuenta\n",
            "5. Salir\n",
            "Por favor, ingrese el número correspondiente a la opción elegida: 1\n",
            "¡Su saldo actual es de $6000.0! ¡Gracias por consultar!\n",
            "\n",
            "Por favor, seleccione la opción deseada:\n",
            "1. Consultar saldo\n",
            "2. Retirar dinero\n",
            "3. Depositar dinero\n",
            "4. Transferir dinero a otra cuenta\n",
            "5. Salir\n",
            "Por favor, ingrese el número correspondiente a la opción elegida: 5\n",
            "¡Gracias por utilizar nuestro simulador de cajero automático! ¡Hasta pronto!\n"
          ]
        }
      ],
      "source": [
        "def consultar_saldo(saldo):\n",
        "    print(f\"¡Su saldo actual es de ${saldo}! ¡Gracias por consultar!\")\n",
        "\n",
        "def retirar_dinero(saldo):\n",
        "    cantidad = float(input(\"Por favor, ingrese la cantidad a retirar: \"))\n",
        "    if cantidad > saldo:\n",
        "        print(\"Fondos insuficientes.\")\n",
        "    else:\n",
        "        saldo -= cantidad\n",
        "        print(f\"¡Retiro exitoso! Ha retirado ${cantidad}.\")\n",
        "    return saldo\n",
        "\n",
        "def depositar_dinero(saldo):\n",
        "    cantidad = float(input(\"Por favor, ingrese la cantidad a depositar: \"))\n",
        "    saldo += cantidad\n",
        "    print(f\"¡Depósito exitoso! Ha depositado ${cantidad}.\")\n",
        "    return saldo\n",
        "\n",
        "def transferir_dinero(saldo):\n",
        "    cuenta_destino = input(\"Por favor, ingrese el número de cuenta de destino: \")\n",
        "    cantidad = float(input(\"Por favor, ingrese la cantidad a transferir: \"))\n",
        "    if cantidad > saldo:\n",
        "        print(\"Fondos insuficientes.\")\n",
        "    else:\n",
        "        saldo -= cantidad\n",
        "        print(f\"¡Transferencia exitosa! Ha transferido ${cantidad} a la cuenta {cuenta_destino}.\")\n",
        "    return saldo\n",
        "\n",
        "def cajero_automatico():\n",
        "    numero_cuenta = input(\"Por favor, introduzca su número de cuenta para continuar: \")\n",
        "    saldo = 5000.0  # Saldo inicial\n",
        "    print(f\"Bienvenido al simulador de cajero automático, cuenta {numero_cuenta}!\")\n",
        "\n",
        "    while True:\n",
        "        print(\"\\nPor favor, seleccione la opción deseada:\")\n",
        "        print(\"1. Consultar saldo\")\n",
        "        print(\"2. Retirar dinero\")\n",
        "        print(\"3. Depositar dinero\")\n",
        "        print(\"4. Transferir dinero a otra cuenta\")\n",
        "        print(\"5. Salir\")\n",
        "        opcion = input(\"Por favor, ingrese el número correspondiente a la opción elegida: \")\n",
        "\n",
        "        if opcion == \"1\":\n",
        "            consultar_saldo(saldo)\n",
        "        elif opcion == \"2\":\n",
        "            saldo = retirar_dinero(saldo)\n",
        "        elif opcion == \"3\":\n",
        "            saldo = depositar_dinero(saldo)\n",
        "        elif opcion == \"4\":\n",
        "            saldo = transferir_dinero(saldo)\n",
        "        elif opcion == \"5\":\n",
        "            print(\"¡Gracias por utilizar nuestro simulador de cajero automático! ¡Hasta pronto!\")\n",
        "            break\n",
        "        else:\n",
        "            print(\"Opción no válida. Por favor, intente de nuevo.\")\n",
        "\n",
        "cajero_automatico()\n"
      ]
    }
  ]
}